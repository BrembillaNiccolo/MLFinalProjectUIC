{
 "cells": [
  {
   "cell_type": "code",
   "execution_count": null,
   "id": "6d636c81",
   "metadata": {},
   "outputs": [],
   "source": [
    "!pip install matplotlib numpy pandas scikit-learn dask \"dask[dataframe]\""
   ]
  },
  {
   "cell_type": "code",
   "execution_count": null,
   "id": "4fa21274",
   "metadata": {},
   "outputs": [],
   "source": [
    "from sklearn.model_selection import train_test_split\n",
    "from sklearn.linear_model import LinearRegression, ElasticNet\n",
    "from sklearn.neighbors import KNeighborsRegressor\n",
    "from sklearn.preprocessing import StandardScaler\n",
    "from sklearn.tree import DecisionTreeRegressor\n",
    "from sklearn.svm import SVR\n",
    "from sklearn.tree import DecisionTreeRegressor\n",
    "from sklearn.ensemble import RandomForestRegressor, AdaBoostRegressor, GradientBoostingRegressor, StackingRegressor\n",
    "from sklearn.model_selection import GridSearchCV\n",
    "from sklearn.metrics import mean_squared_error, mean_absolute_error, r2_score\n",
    "import os\n",
    "import numpy as np\n",
    "import pandas as pd\n",
    "import matplotlib.pyplot as plt\n",
    "from mpl_toolkits.mplot3d import Axes3D\n",
    "import dask.dataframe as dd\n",
    "import sklearn as skl\n",
    "from sklearn.decomposition import PCA"
   ]
  },
  {
   "cell_type": "code",
   "execution_count": null,
   "id": "c2ce2683",
   "metadata": {},
   "outputs": [],
   "source": [
    "dataset = '../Datasets/Small_datasetPreprocessed1.parquet'\n",
    "\n",
    "if os.path.exists(dataset):\n",
    "    df = pd.read_parquet(dataset)\n",
    "    df = df.dropna() \n",
    "    print(df.head(1))\n",
    "    print(df.shape)\n",
    "else:\n",
    "    print(\"Dataset not found\")\n"
   ]
  },
  {
   "cell_type": "code",
   "execution_count": null,
   "id": "36031112",
   "metadata": {},
   "outputs": [],
   "source": [
    "X = df.drop(['fare_amount'], axis=1)\n",
    "y = df['fare_amount']"
   ]
  },
  {
   "cell_type": "code",
   "execution_count": null,
   "id": "5079280c",
   "metadata": {},
   "outputs": [],
   "source": [
    "#LINEAR REGRESSOR MODEL\n",
    "X_train, X_test, y_train, y_test = train_test_split(X, y, test_size=0.2, random_state=42)\n",
    "\n",
    "model = LinearRegression()\n",
    "model.fit(X_train, y_train)\n",
    "\n",
    "score = model.score(X_test, y_test)\n",
    "print(score)"
   ]
  },
  {
   "cell_type": "code",
   "execution_count": null,
   "id": "203f50eb",
   "metadata": {},
   "outputs": [],
   "source": [
    "pca = PCA(n_components=2)  # You can specify less if you want to reduce dimensions\n",
    "# Fit and transform the data\n",
    "X_pca = pca.fit_transform(X)\n",
    "X_train_pca, X_test_pca, y_train, y_test = train_test_split(X_pca, y, test_size=0.2, random_state=42)\n",
    "\n",
    "second_linearRegressor = LinearRegression()\n",
    "second_linearRegressor.fit(X_train_pca, y_train)\n",
    "\n",
    "y_pred= second_linearRegressor.predict(X_test_pca)\n",
    "\n",
    "score = second_linearRegressor.score(X_test_pca, y_test)\n",
    "print(\"R^2 score: \", score)\n",
    "\n",
    "x1 = X_test_pca[:, 0]  # First component of X_test_pca\n",
    "x2 = X_test_pca[:, 1]  # Second component of X_test_pca\n",
    "\n",
    "# Initialize a 3D plot\n",
    "fig = plt.figure(figsize=(12, 9))\n",
    "ax = fig.add_subplot(111, projection='3d')\n",
    "\n",
    "# Plot actual values\n",
    "ax.scatter(x1, x2, y_test, c='blue', label='Actual y', alpha=0.6, marker='o')\n",
    "\n",
    "# Plot predictions\n",
    "ax.scatter(x1, x2, y_pred, c='red', label='Predicted y', alpha=0.6, marker='^')\n",
    "\n",
    "# Add labels\n",
    "ax.set_xlabel('x1')\n",
    "ax.set_ylabel('x2')\n",
    "ax.set_zlabel('y (Actual and Predicted)')\n",
    "ax.set_title('3D Plot of Actual vs. Predicted Values')\n",
    "\n",
    "ax.view_init(elev=0, azim=0)\n",
    "# Add legend\n",
    "ax.legend()\n",
    "\n",
    "# Show plot\n",
    "plt.show()\n",
    "\n"
   ]
  },
  {
   "cell_type": "code",
   "execution_count": null,
   "id": "ef8fdb07",
   "metadata": {},
   "outputs": [],
   "source": [
    "#KNN MODEL\n",
    "knnModel = KNeighborsRegressor(n_neighbors=3)\n",
    "knnModel.fit(X_train, y_train)\n",
    "\n",
    "score = knnModel.score(X_test, y_test)\n",
    "print(score)\n",
    "\n",
    "\n",
    "X_train, X_test, y_train, y_test = train_test_split(X, y, test_size=0.2, random_state=42)\n",
    "iterations = 5\n",
    "scores = []\n",
    "for i in range(iterations):\n",
    "  knnModel = KNeighborsRegressor(n_neighbors=(5+2*i))\n",
    "  knnModel.fit(X_train, y_train)\n",
    "\n",
    "  score = knnModel.score(X_test, y_test)\n",
    "  scores.append(score)\n",
    "\n",
    "print(scores)"
   ]
  },
  {
   "cell_type": "code",
   "execution_count": null,
   "id": "8749566c-a61c-4bc6-9075-cc3150cefead",
   "metadata": {},
   "outputs": [],
   "source": [
    "#ELASTICNET MODEL\n",
    "X_train1, X_test1, y_train1, y_test1 = train_test_split(X, y, test_size=0.2, random_state=42)\n",
    "\n",
    "scaler = StandardScaler()\n",
    "X_train1_scaled = scaler.fit_transform(X_train1)\n",
    "X_test1_scaled = scaler.transform(X_test1)\n",
    "\n",
    "scores = []\n",
    "\n",
    "alpha_values = np.arange(0.5, 1.1, 0.1)  # 0.1 to 1 (inclusive), step of 0.1\n",
    "l1_ratio_values = np.arange(0.1, 1.1, 0.2)  # 0 to 1 (inclusive), step of 0.1\n",
    "\n",
    "for alpha in alpha_values:\n",
    "    for l1_ratio in l1_ratio_values:\n",
    "        print(f\"Alpha: {alpha}, L1 Ratio: {l1_ratio}\")\n",
    "        eNet = ElasticNet(alpha=alpha, l1_ratio=l1_ratio, random_state=42, max_iter=5000, tol=1e-3)\n",
    "        eNet.fit(X_train1_scaled, y_train1)\n",
    "        score = eNet.score(X_test1_scaled, y_test1)\n",
    "        scores.append(score)\n",
    "        print(f\"Score: {score}\")\n",
    "\n",
    "print(scores)\n",
    "\n",
    "scores_array = np.array(scores)\n",
    "print(max(scores_array))\n",
    "\n",
    "scores_array_reshaped = scores_array.reshape(len(alpha_values), len(l1_ratio_values))\n",
    "print(scores_array_reshaped)    "
   ]
  },
  {
   "cell_type": "code",
   "execution_count": null,
   "id": "3a9c0723-6fe5-4980-a002-694af67e1bf7",
   "metadata": {},
   "outputs": [],
   "source": [
    "criteria = ['squared_error', 'friedman_mse', 'poisson']\n",
    "\n",
    "X_train1, X_test1, y_train1, y_test1 = train_test_split(X, y, test_size=0.2, random_state=42)\n",
    "\n",
    "for criterion in criteria:\n",
    "  treeRegressor = DecisionTreeRegressor(criterion=criterion, splitter='best', max_depth=None, min_samples_split=2, min_samples_leaf=1, min_weight_fraction_leaf=0.0, random_state=42,)\n",
    "  treeRegressor.fit(X_train1, y_train1)\n",
    "  score = treeRegressor.score(X_test1, y_test1)\n",
    "  print(f\"Criterion: {criterion}, Score: {score}\")"
   ]
  }
 ],
 "metadata": {
  "kernelspec": {
   "display_name": "Python 3",
   "language": "python",
   "name": "python3"
  },
  "language_info": {
   "codemirror_mode": {
    "name": "ipython",
    "version": 3
   },
   "file_extension": ".py",
   "mimetype": "text/x-python",
   "name": "python",
   "nbconvert_exporter": "python",
   "pygments_lexer": "ipython3",
   "version": "3.12.5"
  }
 },
 "nbformat": 4,
 "nbformat_minor": 5
}
